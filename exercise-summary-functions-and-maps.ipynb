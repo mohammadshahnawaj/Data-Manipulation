{
 "cells": [
  {
   "cell_type": "markdown",
   "id": "4ddd1e55",
   "metadata": {
    "papermill": {
     "duration": 0.011672,
     "end_time": "2022-10-10T20:51:26.729998",
     "exception": false,
     "start_time": "2022-10-10T20:51:26.718326",
     "status": "completed"
    },
    "tags": []
   },
   "source": [
    "**This notebook is an exercise in the [Pandas](https://www.kaggle.com/learn/pandas) course.  You can reference the tutorial at [this link](https://www.kaggle.com/residentmario/summary-functions-and-maps).**\n",
    "\n",
    "---\n"
   ]
  },
  {
   "cell_type": "markdown",
   "id": "827d21c7",
   "metadata": {
    "papermill": {
     "duration": 0.007565,
     "end_time": "2022-10-10T20:51:26.745854",
     "exception": false,
     "start_time": "2022-10-10T20:51:26.738289",
     "status": "completed"
    },
    "tags": []
   },
   "source": [
    "# Introduction\n",
    "\n",
    "Now you are ready to get a deeper understanding of your data.\n",
    "\n",
    "Run the following cell to load your data and some utility functions (including code to check your answers)."
   ]
  },
  {
   "cell_type": "code",
   "execution_count": 1,
   "id": "d085df37",
   "metadata": {
    "execution": {
     "iopub.execute_input": "2022-10-10T20:51:26.763069Z",
     "iopub.status.busy": "2022-10-10T20:51:26.762429Z",
     "iopub.status.idle": "2022-10-10T20:51:33.987099Z",
     "shell.execute_reply": "2022-10-10T20:51:33.985891Z"
    },
    "papermill": {
     "duration": 7.236202,
     "end_time": "2022-10-10T20:51:33.989421",
     "exception": false,
     "start_time": "2022-10-10T20:51:26.753219",
     "status": "completed"
    },
    "tags": []
   },
   "outputs": [
    {
     "name": "stdout",
     "output_type": "stream",
     "text": [
      "Setup complete.\n"
     ]
    },
    {
     "data": {
      "text/html": [
       "<div>\n",
       "<style scoped>\n",
       "    .dataframe tbody tr th:only-of-type {\n",
       "        vertical-align: middle;\n",
       "    }\n",
       "\n",
       "    .dataframe tbody tr th {\n",
       "        vertical-align: top;\n",
       "    }\n",
       "\n",
       "    .dataframe thead th {\n",
       "        text-align: right;\n",
       "    }\n",
       "</style>\n",
       "<table border=\"1\" class=\"dataframe\">\n",
       "  <thead>\n",
       "    <tr style=\"text-align: right;\">\n",
       "      <th></th>\n",
       "      <th>country</th>\n",
       "      <th>description</th>\n",
       "      <th>designation</th>\n",
       "      <th>points</th>\n",
       "      <th>price</th>\n",
       "      <th>province</th>\n",
       "      <th>region_1</th>\n",
       "      <th>region_2</th>\n",
       "      <th>taster_name</th>\n",
       "      <th>taster_twitter_handle</th>\n",
       "      <th>title</th>\n",
       "      <th>variety</th>\n",
       "      <th>winery</th>\n",
       "    </tr>\n",
       "  </thead>\n",
       "  <tbody>\n",
       "    <tr>\n",
       "      <th>0</th>\n",
       "      <td>Italy</td>\n",
       "      <td>Aromas include tropical fruit, broom, brimston...</td>\n",
       "      <td>Vulkà Bianco</td>\n",
       "      <td>87</td>\n",
       "      <td>NaN</td>\n",
       "      <td>Sicily &amp; Sardinia</td>\n",
       "      <td>Etna</td>\n",
       "      <td>NaN</td>\n",
       "      <td>Kerin O’Keefe</td>\n",
       "      <td>@kerinokeefe</td>\n",
       "      <td>Nicosia 2013 Vulkà Bianco  (Etna)</td>\n",
       "      <td>White Blend</td>\n",
       "      <td>Nicosia</td>\n",
       "    </tr>\n",
       "    <tr>\n",
       "      <th>1</th>\n",
       "      <td>Portugal</td>\n",
       "      <td>This is ripe and fruity, a wine that is smooth...</td>\n",
       "      <td>Avidagos</td>\n",
       "      <td>87</td>\n",
       "      <td>15.0</td>\n",
       "      <td>Douro</td>\n",
       "      <td>NaN</td>\n",
       "      <td>NaN</td>\n",
       "      <td>Roger Voss</td>\n",
       "      <td>@vossroger</td>\n",
       "      <td>Quinta dos Avidagos 2011 Avidagos Red (Douro)</td>\n",
       "      <td>Portuguese Red</td>\n",
       "      <td>Quinta dos Avidagos</td>\n",
       "    </tr>\n",
       "    <tr>\n",
       "      <th>2</th>\n",
       "      <td>US</td>\n",
       "      <td>Tart and snappy, the flavors of lime flesh and...</td>\n",
       "      <td>NaN</td>\n",
       "      <td>87</td>\n",
       "      <td>14.0</td>\n",
       "      <td>Oregon</td>\n",
       "      <td>Willamette Valley</td>\n",
       "      <td>Willamette Valley</td>\n",
       "      <td>Paul Gregutt</td>\n",
       "      <td>@paulgwine</td>\n",
       "      <td>Rainstorm 2013 Pinot Gris (Willamette Valley)</td>\n",
       "      <td>Pinot Gris</td>\n",
       "      <td>Rainstorm</td>\n",
       "    </tr>\n",
       "    <tr>\n",
       "      <th>3</th>\n",
       "      <td>US</td>\n",
       "      <td>Pineapple rind, lemon pith and orange blossom ...</td>\n",
       "      <td>Reserve Late Harvest</td>\n",
       "      <td>87</td>\n",
       "      <td>13.0</td>\n",
       "      <td>Michigan</td>\n",
       "      <td>Lake Michigan Shore</td>\n",
       "      <td>NaN</td>\n",
       "      <td>Alexander Peartree</td>\n",
       "      <td>NaN</td>\n",
       "      <td>St. Julian 2013 Reserve Late Harvest Riesling ...</td>\n",
       "      <td>Riesling</td>\n",
       "      <td>St. Julian</td>\n",
       "    </tr>\n",
       "    <tr>\n",
       "      <th>4</th>\n",
       "      <td>US</td>\n",
       "      <td>Much like the regular bottling from 2012, this...</td>\n",
       "      <td>Vintner's Reserve Wild Child Block</td>\n",
       "      <td>87</td>\n",
       "      <td>65.0</td>\n",
       "      <td>Oregon</td>\n",
       "      <td>Willamette Valley</td>\n",
       "      <td>Willamette Valley</td>\n",
       "      <td>Paul Gregutt</td>\n",
       "      <td>@paulgwine</td>\n",
       "      <td>Sweet Cheeks 2012 Vintner's Reserve Wild Child...</td>\n",
       "      <td>Pinot Noir</td>\n",
       "      <td>Sweet Cheeks</td>\n",
       "    </tr>\n",
       "  </tbody>\n",
       "</table>\n",
       "</div>"
      ],
      "text/plain": [
       "    country                                        description  \\\n",
       "0     Italy  Aromas include tropical fruit, broom, brimston...   \n",
       "1  Portugal  This is ripe and fruity, a wine that is smooth...   \n",
       "2        US  Tart and snappy, the flavors of lime flesh and...   \n",
       "3        US  Pineapple rind, lemon pith and orange blossom ...   \n",
       "4        US  Much like the regular bottling from 2012, this...   \n",
       "\n",
       "                          designation  points  price           province  \\\n",
       "0                        Vulkà Bianco      87    NaN  Sicily & Sardinia   \n",
       "1                            Avidagos      87   15.0              Douro   \n",
       "2                                 NaN      87   14.0             Oregon   \n",
       "3                Reserve Late Harvest      87   13.0           Michigan   \n",
       "4  Vintner's Reserve Wild Child Block      87   65.0             Oregon   \n",
       "\n",
       "              region_1           region_2         taster_name  \\\n",
       "0                 Etna                NaN       Kerin O’Keefe   \n",
       "1                  NaN                NaN          Roger Voss   \n",
       "2    Willamette Valley  Willamette Valley        Paul Gregutt   \n",
       "3  Lake Michigan Shore                NaN  Alexander Peartree   \n",
       "4    Willamette Valley  Willamette Valley        Paul Gregutt   \n",
       "\n",
       "  taster_twitter_handle                                              title  \\\n",
       "0          @kerinokeefe                  Nicosia 2013 Vulkà Bianco  (Etna)   \n",
       "1            @vossroger      Quinta dos Avidagos 2011 Avidagos Red (Douro)   \n",
       "2           @paulgwine       Rainstorm 2013 Pinot Gris (Willamette Valley)   \n",
       "3                   NaN  St. Julian 2013 Reserve Late Harvest Riesling ...   \n",
       "4           @paulgwine   Sweet Cheeks 2012 Vintner's Reserve Wild Child...   \n",
       "\n",
       "          variety               winery  \n",
       "0     White Blend              Nicosia  \n",
       "1  Portuguese Red  Quinta dos Avidagos  \n",
       "2      Pinot Gris            Rainstorm  \n",
       "3        Riesling           St. Julian  \n",
       "4      Pinot Noir         Sweet Cheeks  "
      ]
     },
     "execution_count": 1,
     "metadata": {},
     "output_type": "execute_result"
    }
   ],
   "source": [
    "import pandas as pd\n",
    "pd.set_option(\"display.max_rows\", 5)\n",
    "reviews = pd.read_csv(\"../input/wine-reviews/winemag-data-130k-v2.csv\", index_col=0)\n",
    "\n",
    "from learntools.core import binder; binder.bind(globals())\n",
    "from learntools.pandas.summary_functions_and_maps import *\n",
    "print(\"Setup complete.\")\n",
    "\n",
    "reviews.head()"
   ]
  },
  {
   "cell_type": "markdown",
   "id": "22db6078",
   "metadata": {
    "papermill": {
     "duration": 0.007091,
     "end_time": "2022-10-10T20:51:34.004227",
     "exception": false,
     "start_time": "2022-10-10T20:51:33.997136",
     "status": "completed"
    },
    "tags": []
   },
   "source": [
    "# Exercises"
   ]
  },
  {
   "cell_type": "markdown",
   "id": "5abf3412",
   "metadata": {
    "papermill": {
     "duration": 0.007379,
     "end_time": "2022-10-10T20:51:34.019104",
     "exception": false,
     "start_time": "2022-10-10T20:51:34.011725",
     "status": "completed"
    },
    "tags": []
   },
   "source": [
    "## 1.\n",
    "\n",
    "What is the median of the `points` column in the `reviews` DataFrame?"
   ]
  },
  {
   "cell_type": "code",
   "execution_count": 2,
   "id": "9236a022",
   "metadata": {
    "execution": {
     "iopub.execute_input": "2022-10-10T20:51:34.037921Z",
     "iopub.status.busy": "2022-10-10T20:51:34.037499Z",
     "iopub.status.idle": "2022-10-10T20:51:34.048607Z",
     "shell.execute_reply": "2022-10-10T20:51:34.047757Z"
    },
    "papermill": {
     "duration": 0.022053,
     "end_time": "2022-10-10T20:51:34.050616",
     "exception": false,
     "start_time": "2022-10-10T20:51:34.028563",
     "status": "completed"
    },
    "tags": []
   },
   "outputs": [
    {
     "data": {
      "application/javascript": [
       "parent.postMessage({\"jupyterEvent\": \"custom.exercise_interaction\", \"data\": {\"outcomeType\": 1, \"valueTowardsCompletion\": 0.14285714285714285, \"interactionType\": 1, \"questionType\": 1, \"questionId\": \"1_MedianPoints\", \"learnToolsVersion\": \"0.3.4\", \"failureMessage\": \"\", \"exceptionClass\": \"\", \"trace\": \"\"}}, \"*\")"
      ],
      "text/plain": [
       "<IPython.core.display.Javascript object>"
      ]
     },
     "metadata": {},
     "output_type": "display_data"
    },
    {
     "data": {
      "text/markdown": [
       "<span style=\"color:#33cc33\">Correct</span>"
      ],
      "text/plain": [
       "Correct"
      ]
     },
     "metadata": {},
     "output_type": "display_data"
    }
   ],
   "source": [
    "median_points = reviews.points.median()\n",
    "\n",
    "# Check your answer\n",
    "q1.check()"
   ]
  },
  {
   "cell_type": "code",
   "execution_count": 3,
   "id": "85350449",
   "metadata": {
    "execution": {
     "iopub.execute_input": "2022-10-10T20:51:34.068235Z",
     "iopub.status.busy": "2022-10-10T20:51:34.067642Z",
     "iopub.status.idle": "2022-10-10T20:51:34.071141Z",
     "shell.execute_reply": "2022-10-10T20:51:34.070362Z"
    },
    "papermill": {
     "duration": 0.014898,
     "end_time": "2022-10-10T20:51:34.073310",
     "exception": false,
     "start_time": "2022-10-10T20:51:34.058412",
     "status": "completed"
    },
    "tags": []
   },
   "outputs": [],
   "source": [
    "#q1.hint()\n",
    "#q1.solution()"
   ]
  },
  {
   "cell_type": "markdown",
   "id": "60aa3ba6",
   "metadata": {
    "papermill": {
     "duration": 0.007568,
     "end_time": "2022-10-10T20:51:34.088875",
     "exception": false,
     "start_time": "2022-10-10T20:51:34.081307",
     "status": "completed"
    },
    "tags": []
   },
   "source": [
    "## 2. \n",
    "What countries are represented in the dataset? (Your answer should not include any duplicates.)"
   ]
  },
  {
   "cell_type": "code",
   "execution_count": 4,
   "id": "cce8d032",
   "metadata": {
    "execution": {
     "iopub.execute_input": "2022-10-10T20:51:34.106558Z",
     "iopub.status.busy": "2022-10-10T20:51:34.105954Z",
     "iopub.status.idle": "2022-10-10T20:51:34.119665Z",
     "shell.execute_reply": "2022-10-10T20:51:34.118785Z"
    },
    "papermill": {
     "duration": 0.025185,
     "end_time": "2022-10-10T20:51:34.121941",
     "exception": false,
     "start_time": "2022-10-10T20:51:34.096756",
     "status": "completed"
    },
    "tags": []
   },
   "outputs": [
    {
     "data": {
      "application/javascript": [
       "parent.postMessage({\"jupyterEvent\": \"custom.exercise_interaction\", \"data\": {\"outcomeType\": 1, \"valueTowardsCompletion\": 0.14285714285714285, \"interactionType\": 1, \"questionType\": 2, \"questionId\": \"2_UniqueCountries\", \"learnToolsVersion\": \"0.3.4\", \"failureMessage\": \"\", \"exceptionClass\": \"\", \"trace\": \"\"}}, \"*\")"
      ],
      "text/plain": [
       "<IPython.core.display.Javascript object>"
      ]
     },
     "metadata": {},
     "output_type": "display_data"
    },
    {
     "data": {
      "text/markdown": [
       "<span style=\"color:#33cc33\">Correct</span>"
      ],
      "text/plain": [
       "Correct"
      ]
     },
     "metadata": {},
     "output_type": "display_data"
    }
   ],
   "source": [
    "countries = reviews.country.unique()\n",
    "\n",
    "# Check your answer\n",
    "q2.check()"
   ]
  },
  {
   "cell_type": "code",
   "execution_count": 5,
   "id": "6c85103a",
   "metadata": {
    "execution": {
     "iopub.execute_input": "2022-10-10T20:51:34.139859Z",
     "iopub.status.busy": "2022-10-10T20:51:34.139443Z",
     "iopub.status.idle": "2022-10-10T20:51:34.144277Z",
     "shell.execute_reply": "2022-10-10T20:51:34.142947Z"
    },
    "papermill": {
     "duration": 0.016482,
     "end_time": "2022-10-10T20:51:34.146512",
     "exception": false,
     "start_time": "2022-10-10T20:51:34.130030",
     "status": "completed"
    },
    "tags": []
   },
   "outputs": [],
   "source": [
    "#q2.hint()\n",
    "#q2.solution()"
   ]
  },
  {
   "cell_type": "markdown",
   "id": "f1e79214",
   "metadata": {
    "papermill": {
     "duration": 0.007749,
     "end_time": "2022-10-10T20:51:34.162424",
     "exception": false,
     "start_time": "2022-10-10T20:51:34.154675",
     "status": "completed"
    },
    "tags": []
   },
   "source": [
    "## 3.\n",
    "How often does each country appear in the dataset? Create a Series `reviews_per_country` mapping countries to the count of reviews of wines from that country."
   ]
  },
  {
   "cell_type": "code",
   "execution_count": 6,
   "id": "b8b7743c",
   "metadata": {
    "execution": {
     "iopub.execute_input": "2022-10-10T20:51:34.180528Z",
     "iopub.status.busy": "2022-10-10T20:51:34.180112Z",
     "iopub.status.idle": "2022-10-10T20:51:34.197065Z",
     "shell.execute_reply": "2022-10-10T20:51:34.196248Z"
    },
    "papermill": {
     "duration": 0.028484,
     "end_time": "2022-10-10T20:51:34.199060",
     "exception": false,
     "start_time": "2022-10-10T20:51:34.170576",
     "status": "completed"
    },
    "tags": []
   },
   "outputs": [
    {
     "data": {
      "application/javascript": [
       "parent.postMessage({\"jupyterEvent\": \"custom.exercise_interaction\", \"data\": {\"outcomeType\": 1, \"valueTowardsCompletion\": 0.14285714285714285, \"interactionType\": 1, \"questionType\": 1, \"questionId\": \"3_ReviewsPerCountry\", \"learnToolsVersion\": \"0.3.4\", \"failureMessage\": \"\", \"exceptionClass\": \"\", \"trace\": \"\"}}, \"*\")"
      ],
      "text/plain": [
       "<IPython.core.display.Javascript object>"
      ]
     },
     "metadata": {},
     "output_type": "display_data"
    },
    {
     "data": {
      "text/markdown": [
       "<span style=\"color:#33cc33\">Correct</span>"
      ],
      "text/plain": [
       "Correct"
      ]
     },
     "metadata": {},
     "output_type": "display_data"
    }
   ],
   "source": [
    "reviews_per_country = reviews.country.value_counts()\n",
    "\n",
    "# Check your answer\n",
    "q3.check()"
   ]
  },
  {
   "cell_type": "code",
   "execution_count": 7,
   "id": "4a70bae1",
   "metadata": {
    "execution": {
     "iopub.execute_input": "2022-10-10T20:51:34.218686Z",
     "iopub.status.busy": "2022-10-10T20:51:34.218074Z",
     "iopub.status.idle": "2022-10-10T20:51:34.221576Z",
     "shell.execute_reply": "2022-10-10T20:51:34.220810Z"
    },
    "papermill": {
     "duration": 0.015583,
     "end_time": "2022-10-10T20:51:34.223566",
     "exception": false,
     "start_time": "2022-10-10T20:51:34.207983",
     "status": "completed"
    },
    "tags": []
   },
   "outputs": [],
   "source": [
    "#q3.hint()\n",
    "#q3.solution()"
   ]
  },
  {
   "cell_type": "markdown",
   "id": "4df46aee",
   "metadata": {
    "papermill": {
     "duration": 0.007963,
     "end_time": "2022-10-10T20:51:34.239959",
     "exception": false,
     "start_time": "2022-10-10T20:51:34.231996",
     "status": "completed"
    },
    "tags": []
   },
   "source": [
    "## 4.\n",
    "Create variable `centered_price` containing a version of the `price` column with the mean price subtracted.\n",
    "\n",
    "(Note: this 'centering' transformation is a common preprocessing step before applying various machine learning algorithms.) "
   ]
  },
  {
   "cell_type": "code",
   "execution_count": 8,
   "id": "73823e34",
   "metadata": {
    "execution": {
     "iopub.execute_input": "2022-10-10T20:51:34.258656Z",
     "iopub.status.busy": "2022-10-10T20:51:34.258225Z",
     "iopub.status.idle": "2022-10-10T20:51:34.322710Z",
     "shell.execute_reply": "2022-10-10T20:51:34.321826Z"
    },
    "papermill": {
     "duration": 0.076673,
     "end_time": "2022-10-10T20:51:34.324988",
     "exception": false,
     "start_time": "2022-10-10T20:51:34.248315",
     "status": "completed"
    },
    "tags": []
   },
   "outputs": [
    {
     "data": {
      "text/plain": [
       "0               NaN\n",
       "1        -20.363389\n",
       "            ...    \n",
       "129969    -3.363389\n",
       "129970   -14.363389\n",
       "Name: price, Length: 129971, dtype: float64"
      ]
     },
     "execution_count": 8,
     "metadata": {},
     "output_type": "execute_result"
    }
   ],
   "source": [
    "review_price_mean = reviews.price.mean()\n",
    "reviews.price.map(lambda p: p - review_price_mean)"
   ]
  },
  {
   "cell_type": "code",
   "execution_count": 9,
   "id": "09a2ce15",
   "metadata": {
    "execution": {
     "iopub.execute_input": "2022-10-10T20:51:34.344547Z",
     "iopub.status.busy": "2022-10-10T20:51:34.343786Z",
     "iopub.status.idle": "2022-10-10T20:51:34.407981Z",
     "shell.execute_reply": "2022-10-10T20:51:34.406808Z"
    },
    "papermill": {
     "duration": 0.076685,
     "end_time": "2022-10-10T20:51:34.410304",
     "exception": false,
     "start_time": "2022-10-10T20:51:34.333619",
     "status": "completed"
    },
    "tags": []
   },
   "outputs": [
    {
     "data": {
      "application/javascript": [
       "parent.postMessage({\"jupyterEvent\": \"custom.exercise_interaction\", \"data\": {\"outcomeType\": 1, \"valueTowardsCompletion\": 0.14285714285714285, \"interactionType\": 1, \"questionType\": 1, \"questionId\": \"4_CenteredPrice\", \"learnToolsVersion\": \"0.3.4\", \"failureMessage\": \"\", \"exceptionClass\": \"\", \"trace\": \"\"}}, \"*\")"
      ],
      "text/plain": [
       "<IPython.core.display.Javascript object>"
      ]
     },
     "metadata": {},
     "output_type": "display_data"
    },
    {
     "data": {
      "text/markdown": [
       "<span style=\"color:#33cc33\">Correct</span>"
      ],
      "text/plain": [
       "Correct"
      ]
     },
     "metadata": {},
     "output_type": "display_data"
    }
   ],
   "source": [
    "centered_price = reviews.price.map(lambda p: p - review_price_mean)\n",
    "\n",
    "# Check your answer\n",
    "q4.check()"
   ]
  },
  {
   "cell_type": "code",
   "execution_count": 10,
   "id": "f100b757",
   "metadata": {
    "execution": {
     "iopub.execute_input": "2022-10-10T20:51:34.430189Z",
     "iopub.status.busy": "2022-10-10T20:51:34.429403Z",
     "iopub.status.idle": "2022-10-10T20:51:34.434146Z",
     "shell.execute_reply": "2022-10-10T20:51:34.433264Z"
    },
    "papermill": {
     "duration": 0.017428,
     "end_time": "2022-10-10T20:51:34.436583",
     "exception": false,
     "start_time": "2022-10-10T20:51:34.419155",
     "status": "completed"
    },
    "tags": []
   },
   "outputs": [],
   "source": [
    "#q4.hint()\n",
    "#q4.solution()"
   ]
  },
  {
   "cell_type": "markdown",
   "id": "e3c0b964",
   "metadata": {
    "papermill": {
     "duration": 0.008692,
     "end_time": "2022-10-10T20:51:34.454509",
     "exception": false,
     "start_time": "2022-10-10T20:51:34.445817",
     "status": "completed"
    },
    "tags": []
   },
   "source": [
    "## 5.\n",
    "I'm an economical wine buyer. Which wine is the \"best bargain\"? Create a variable `bargain_wine` with the title of the wine with the highest points-to-price ratio in the dataset."
   ]
  },
  {
   "cell_type": "code",
   "execution_count": 11,
   "id": "b5f784bd",
   "metadata": {
    "execution": {
     "iopub.execute_input": "2022-10-10T20:51:34.475045Z",
     "iopub.status.busy": "2022-10-10T20:51:34.474264Z",
     "iopub.status.idle": "2022-10-10T20:51:34.486634Z",
     "shell.execute_reply": "2022-10-10T20:51:34.485542Z"
    },
    "papermill": {
     "duration": 0.025386,
     "end_time": "2022-10-10T20:51:34.489082",
     "exception": false,
     "start_time": "2022-10-10T20:51:34.463696",
     "status": "completed"
    },
    "tags": []
   },
   "outputs": [
    {
     "data": {
      "text/plain": [
       "'Bandit NV Merlot (California)'"
      ]
     },
     "execution_count": 11,
     "metadata": {},
     "output_type": "execute_result"
    }
   ],
   "source": [
    "reviews11=(reviews.points/reviews.price).idxmax()\n",
    "reviews.loc[reviews11,'title']"
   ]
  },
  {
   "cell_type": "code",
   "execution_count": 12,
   "id": "56aa22a7",
   "metadata": {
    "execution": {
     "iopub.execute_input": "2022-10-10T20:51:34.510288Z",
     "iopub.status.busy": "2022-10-10T20:51:34.509897Z",
     "iopub.status.idle": "2022-10-10T20:51:34.518589Z",
     "shell.execute_reply": "2022-10-10T20:51:34.517332Z"
    },
    "papermill": {
     "duration": 0.021821,
     "end_time": "2022-10-10T20:51:34.520880",
     "exception": false,
     "start_time": "2022-10-10T20:51:34.499059",
     "status": "completed"
    },
    "tags": []
   },
   "outputs": [
    {
     "data": {
      "application/javascript": [
       "parent.postMessage({\"jupyterEvent\": \"custom.exercise_interaction\", \"data\": {\"outcomeType\": 1, \"valueTowardsCompletion\": 0.14285714285714285, \"interactionType\": 1, \"questionType\": 2, \"questionId\": \"5_BargainWine\", \"learnToolsVersion\": \"0.3.4\", \"failureMessage\": \"\", \"exceptionClass\": \"\", \"trace\": \"\"}}, \"*\")"
      ],
      "text/plain": [
       "<IPython.core.display.Javascript object>"
      ]
     },
     "metadata": {},
     "output_type": "display_data"
    },
    {
     "data": {
      "text/markdown": [
       "<span style=\"color:#33cc33\">Correct</span>"
      ],
      "text/plain": [
       "Correct"
      ]
     },
     "metadata": {},
     "output_type": "display_data"
    }
   ],
   "source": [
    "bargain_wine = reviews.loc[reviews11,'title']\n",
    "\n",
    "# Check your answer\n",
    "q5.check()"
   ]
  },
  {
   "cell_type": "code",
   "execution_count": 13,
   "id": "c08622ee",
   "metadata": {
    "execution": {
     "iopub.execute_input": "2022-10-10T20:51:34.541414Z",
     "iopub.status.busy": "2022-10-10T20:51:34.541018Z",
     "iopub.status.idle": "2022-10-10T20:51:34.545907Z",
     "shell.execute_reply": "2022-10-10T20:51:34.544726Z"
    },
    "papermill": {
     "duration": 0.018037,
     "end_time": "2022-10-10T20:51:34.548370",
     "exception": false,
     "start_time": "2022-10-10T20:51:34.530333",
     "status": "completed"
    },
    "tags": []
   },
   "outputs": [],
   "source": [
    "#q5.hint()\n",
    "#q5.solution()"
   ]
  },
  {
   "cell_type": "markdown",
   "id": "b6d48152",
   "metadata": {
    "papermill": {
     "duration": 0.00966,
     "end_time": "2022-10-10T20:51:34.567430",
     "exception": false,
     "start_time": "2022-10-10T20:51:34.557770",
     "status": "completed"
    },
    "tags": []
   },
   "source": [
    "## 6.\n",
    "There are only so many words you can use when describing a bottle of wine. Is a wine more likely to be \"tropical\" or \"fruity\"? Create a Series `descriptor_counts` counting how many times each of these two words appears in the `description` column in the dataset. (For simplicity, let's ignore the capitalized versions of these words.)"
   ]
  },
  {
   "cell_type": "code",
   "execution_count": 14,
   "id": "4ec612ad",
   "metadata": {
    "execution": {
     "iopub.execute_input": "2022-10-10T20:51:34.588179Z",
     "iopub.status.busy": "2022-10-10T20:51:34.587772Z",
     "iopub.status.idle": "2022-10-10T20:51:34.596588Z",
     "shell.execute_reply": "2022-10-10T20:51:34.595499Z"
    },
    "papermill": {
     "duration": 0.021814,
     "end_time": "2022-10-10T20:51:34.598862",
     "exception": false,
     "start_time": "2022-10-10T20:51:34.577048",
     "status": "completed"
    },
    "tags": []
   },
   "outputs": [
    {
     "data": {
      "text/plain": [
       "0         Aromas include tropical fruit, broom, brimston...\n",
       "1         This is ripe and fruity, a wine that is smooth...\n",
       "                                ...                        \n",
       "129969    A dry style of Pinot Gris, this is crisp with ...\n",
       "129970    Big, rich and off-dry, this is powered by inte...\n",
       "Name: description, Length: 129971, dtype: object"
      ]
     },
     "execution_count": 14,
     "metadata": {},
     "output_type": "execute_result"
    }
   ],
   "source": [
    "#reviews.description==(\"tropical\" | \"fruity\")\n",
    "reviews.description"
   ]
  },
  {
   "cell_type": "code",
   "execution_count": 15,
   "id": "c6faf689",
   "metadata": {
    "execution": {
     "iopub.execute_input": "2022-10-10T20:51:34.620293Z",
     "iopub.status.busy": "2022-10-10T20:51:34.619888Z",
     "iopub.status.idle": "2022-10-10T20:51:34.760919Z",
     "shell.execute_reply": "2022-10-10T20:51:34.759625Z"
    },
    "papermill": {
     "duration": 0.154914,
     "end_time": "2022-10-10T20:51:34.763611",
     "exception": false,
     "start_time": "2022-10-10T20:51:34.608697",
     "status": "completed"
    },
    "tags": []
   },
   "outputs": [],
   "source": [
    "tropi=reviews.description.map(lambda x: \"tropical\" in x).sum()\n",
    "fruit=reviews.description.map(lambda y: \"fruity\" in y).sum()\n"
   ]
  },
  {
   "cell_type": "code",
   "execution_count": 16,
   "id": "45ea02fe",
   "metadata": {
    "execution": {
     "iopub.execute_input": "2022-10-10T20:51:34.785137Z",
     "iopub.status.busy": "2022-10-10T20:51:34.784320Z",
     "iopub.status.idle": "2022-10-10T20:51:34.794751Z",
     "shell.execute_reply": "2022-10-10T20:51:34.793616Z"
    },
    "papermill": {
     "duration": 0.02358,
     "end_time": "2022-10-10T20:51:34.797137",
     "exception": false,
     "start_time": "2022-10-10T20:51:34.773557",
     "status": "completed"
    },
    "tags": []
   },
   "outputs": [
    {
     "data": {
      "application/javascript": [
       "parent.postMessage({\"jupyterEvent\": \"custom.exercise_interaction\", \"data\": {\"outcomeType\": 1, \"valueTowardsCompletion\": 0.14285714285714285, \"interactionType\": 1, \"questionType\": 1, \"questionId\": \"6_DescriptorCounts\", \"learnToolsVersion\": \"0.3.4\", \"failureMessage\": \"\", \"exceptionClass\": \"\", \"trace\": \"\"}}, \"*\")"
      ],
      "text/plain": [
       "<IPython.core.display.Javascript object>"
      ]
     },
     "metadata": {},
     "output_type": "display_data"
    },
    {
     "data": {
      "text/markdown": [
       "<span style=\"color:#33cc33\">Correct</span>"
      ],
      "text/plain": [
       "Correct"
      ]
     },
     "metadata": {},
     "output_type": "display_data"
    }
   ],
   "source": [
    "descriptor_counts =pd.Series([tropi,fruit],index=['tropical','fruity'])\n",
    "\n",
    "# Check your answer\n",
    "q6.check()"
   ]
  },
  {
   "cell_type": "code",
   "execution_count": 17,
   "id": "f077a772",
   "metadata": {
    "execution": {
     "iopub.execute_input": "2022-10-10T20:51:34.818623Z",
     "iopub.status.busy": "2022-10-10T20:51:34.817733Z",
     "iopub.status.idle": "2022-10-10T20:51:34.822213Z",
     "shell.execute_reply": "2022-10-10T20:51:34.821237Z"
    },
    "papermill": {
     "duration": 0.017743,
     "end_time": "2022-10-10T20:51:34.824500",
     "exception": false,
     "start_time": "2022-10-10T20:51:34.806757",
     "status": "completed"
    },
    "tags": []
   },
   "outputs": [],
   "source": [
    "#q6.hint()\n",
    "#q6.solution()"
   ]
  },
  {
   "cell_type": "markdown",
   "id": "b91daf7b",
   "metadata": {
    "papermill": {
     "duration": 0.009666,
     "end_time": "2022-10-10T20:51:34.843900",
     "exception": false,
     "start_time": "2022-10-10T20:51:34.834234",
     "status": "completed"
    },
    "tags": []
   },
   "source": [
    "## 7.\n",
    "We'd like to host these wine reviews on our website, but a rating system ranging from 80 to 100 points is too hard to understand - we'd like to translate them into simple star ratings. A score of 95 or higher counts as 3 stars, a score of at least 85 but less than 95 is 2 stars. Any other score is 1 star.\n",
    "\n",
    "Also, the Canadian Vintners Association bought a lot of ads on the site, so any wines from Canada should automatically get 3 stars, regardless of points.\n",
    "\n",
    "Create a series `star_ratings` with the number of stars corresponding to each review in the dataset."
   ]
  },
  {
   "cell_type": "code",
   "execution_count": 18,
   "id": "1c08a000",
   "metadata": {
    "execution": {
     "iopub.execute_input": "2022-10-10T20:51:34.865066Z",
     "iopub.status.busy": "2022-10-10T20:51:34.864670Z",
     "iopub.status.idle": "2022-10-10T20:51:34.874355Z",
     "shell.execute_reply": "2022-10-10T20:51:34.873199Z"
    },
    "papermill": {
     "duration": 0.022903,
     "end_time": "2022-10-10T20:51:34.876680",
     "exception": false,
     "start_time": "2022-10-10T20:51:34.853777",
     "status": "completed"
    },
    "tags": []
   },
   "outputs": [
    {
     "data": {
      "text/plain": [
       "array([ 87,  86,  85,  88,  92,  91,  90,  89,  83,  82,  81,  80, 100,\n",
       "        98,  97,  96,  95,  93,  94,  84,  99])"
      ]
     },
     "execution_count": 18,
     "metadata": {},
     "output_type": "execute_result"
    }
   ],
   "source": [
    "reviews.points.unique()"
   ]
  },
  {
   "cell_type": "code",
   "execution_count": 19,
   "id": "62f3c46f",
   "metadata": {
    "execution": {
     "iopub.execute_input": "2022-10-10T20:51:34.898043Z",
     "iopub.status.busy": "2022-10-10T20:51:34.897617Z",
     "iopub.status.idle": "2022-10-10T20:51:34.903746Z",
     "shell.execute_reply": "2022-10-10T20:51:34.902606Z"
    },
    "papermill": {
     "duration": 0.019344,
     "end_time": "2022-10-10T20:51:34.905993",
     "exception": false,
     "start_time": "2022-10-10T20:51:34.886649",
     "status": "completed"
    },
    "tags": []
   },
   "outputs": [],
   "source": [
    "def star(x):\n",
    "    if x.country=='canada':\n",
    "        return 3\n",
    "    elif x.points>95:\n",
    "        return 3\n",
    "    elif x.points<95 and x.points>=85:\n",
    "        return 2\n",
    "    else:\n",
    "        return 1\n",
    "        "
   ]
  },
  {
   "cell_type": "code",
   "execution_count": 20,
   "id": "9c9bd4fd",
   "metadata": {
    "execution": {
     "iopub.execute_input": "2022-10-10T20:51:34.927257Z",
     "iopub.status.busy": "2022-10-10T20:51:34.926878Z",
     "iopub.status.idle": "2022-10-10T20:51:39.807595Z",
     "shell.execute_reply": "2022-10-10T20:51:39.806256Z"
    },
    "papermill": {
     "duration": 4.894265,
     "end_time": "2022-10-10T20:51:39.810084",
     "exception": false,
     "start_time": "2022-10-10T20:51:34.915819",
     "status": "completed"
    },
    "tags": []
   },
   "outputs": [
    {
     "data": {
      "text/plain": [
       "0         2\n",
       "1         2\n",
       "         ..\n",
       "129969    2\n",
       "129970    2\n",
       "Length: 129971, dtype: int64"
      ]
     },
     "execution_count": 20,
     "metadata": {},
     "output_type": "execute_result"
    }
   ],
   "source": [
    "reviews.apply(star, axis='columns')"
   ]
  },
  {
   "cell_type": "code",
   "execution_count": 21,
   "id": "1682f36b",
   "metadata": {
    "execution": {
     "iopub.execute_input": "2022-10-10T20:51:39.832576Z",
     "iopub.status.busy": "2022-10-10T20:51:39.832181Z",
     "iopub.status.idle": "2022-10-10T20:51:44.728307Z",
     "shell.execute_reply": "2022-10-10T20:51:44.727390Z"
    },
    "papermill": {
     "duration": 4.909489,
     "end_time": "2022-10-10T20:51:44.730556",
     "exception": false,
     "start_time": "2022-10-10T20:51:39.821067",
     "status": "completed"
    },
    "tags": []
   },
   "outputs": [
    {
     "data": {
      "application/javascript": [
       "parent.postMessage({\"jupyterEvent\": \"custom.exercise_interaction\", \"data\": {\"outcomeType\": 1, \"valueTowardsCompletion\": 0.14285714285714285, \"interactionType\": 1, \"questionType\": 1, \"questionId\": \"7_StarRatings\", \"learnToolsVersion\": \"0.3.4\", \"failureMessage\": \"\", \"exceptionClass\": \"\", \"trace\": \"\"}}, \"*\")"
      ],
      "text/plain": [
       "<IPython.core.display.Javascript object>"
      ]
     },
     "metadata": {},
     "output_type": "display_data"
    },
    {
     "data": {
      "text/markdown": [
       "<span style=\"color:#33cc33\">Correct</span>"
      ],
      "text/plain": [
       "Correct"
      ]
     },
     "metadata": {},
     "output_type": "display_data"
    }
   ],
   "source": [
    "star_ratings = reviews.apply(star, axis='columns')\n",
    "\n",
    "# Check your answer\n",
    "q7.check()"
   ]
  },
  {
   "cell_type": "code",
   "execution_count": 22,
   "id": "2c32bf24",
   "metadata": {
    "execution": {
     "iopub.execute_input": "2022-10-10T20:51:44.753608Z",
     "iopub.status.busy": "2022-10-10T20:51:44.752514Z",
     "iopub.status.idle": "2022-10-10T20:51:44.757341Z",
     "shell.execute_reply": "2022-10-10T20:51:44.756532Z"
    },
    "papermill": {
     "duration": 0.019028,
     "end_time": "2022-10-10T20:51:44.760129",
     "exception": false,
     "start_time": "2022-10-10T20:51:44.741101",
     "status": "completed"
    },
    "tags": []
   },
   "outputs": [],
   "source": [
    "#q7.hint()\n",
    "#q7.solution()"
   ]
  },
  {
   "cell_type": "markdown",
   "id": "5843ae0d",
   "metadata": {
    "papermill": {
     "duration": 0.010161,
     "end_time": "2022-10-10T20:51:44.780526",
     "exception": false,
     "start_time": "2022-10-10T20:51:44.770365",
     "status": "completed"
    },
    "tags": []
   },
   "source": [
    "# Keep going\n",
    "Continue to **[grouping and sorting](https://www.kaggle.com/residentmario/grouping-and-sorting)**."
   ]
  },
  {
   "cell_type": "markdown",
   "id": "6fcfa04e",
   "metadata": {
    "papermill": {
     "duration": 0.010284,
     "end_time": "2022-10-10T20:51:44.801112",
     "exception": false,
     "start_time": "2022-10-10T20:51:44.790828",
     "status": "completed"
    },
    "tags": []
   },
   "source": [
    "---\n",
    "\n",
    "\n",
    "\n",
    "\n",
    "*Have questions or comments? Visit the [course discussion forum](https://www.kaggle.com/learn/pandas/discussion) to chat with other learners.*"
   ]
  }
 ],
 "metadata": {
  "kernelspec": {
   "display_name": "Python 3",
   "language": "python",
   "name": "python3"
  },
  "language_info": {
   "codemirror_mode": {
    "name": "ipython",
    "version": 3
   },
   "file_extension": ".py",
   "mimetype": "text/x-python",
   "name": "python",
   "nbconvert_exporter": "python",
   "pygments_lexer": "ipython3",
   "version": "3.7.12"
  },
  "papermill": {
   "default_parameters": {},
   "duration": 27.923787,
   "end_time": "2022-10-10T20:51:45.533160",
   "environment_variables": {},
   "exception": null,
   "input_path": "__notebook__.ipynb",
   "output_path": "__notebook__.ipynb",
   "parameters": {},
   "start_time": "2022-10-10T20:51:17.609373",
   "version": "2.3.4"
  }
 },
 "nbformat": 4,
 "nbformat_minor": 5
}
