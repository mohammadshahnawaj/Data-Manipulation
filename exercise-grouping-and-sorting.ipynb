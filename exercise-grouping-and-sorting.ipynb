{
 "cells": [
  {
   "cell_type": "markdown",
   "id": "c860507a",
   "metadata": {
    "papermill": {
     "duration": 0.008192,
     "end_time": "2022-10-11T13:16:57.269199",
     "exception": false,
     "start_time": "2022-10-11T13:16:57.261007",
     "status": "completed"
    },
    "tags": []
   },
   "source": [
    "**This notebook is an exercise in the [Pandas](https://www.kaggle.com/learn/pandas) course.  You can reference the tutorial at [this link](https://www.kaggle.com/residentmario/grouping-and-sorting).**\n",
    "\n",
    "---\n"
   ]
  },
  {
   "cell_type": "markdown",
   "id": "4726e020",
   "metadata": {
    "papermill": {
     "duration": 0.006937,
     "end_time": "2022-10-11T13:16:57.282896",
     "exception": false,
     "start_time": "2022-10-11T13:16:57.275959",
     "status": "completed"
    },
    "tags": []
   },
   "source": [
    "# Introduction\n",
    "\n",
    "In these exercises we'll apply groupwise analysis to our dataset.\n",
    "\n",
    "Run the code cell below to load the data before running the exercises."
   ]
  },
  {
   "cell_type": "code",
   "execution_count": 1,
   "id": "853b947b",
   "metadata": {
    "execution": {
     "iopub.execute_input": "2022-10-11T13:16:57.299870Z",
     "iopub.status.busy": "2022-10-11T13:16:57.299238Z",
     "iopub.status.idle": "2022-10-11T13:17:00.546261Z",
     "shell.execute_reply": "2022-10-11T13:17:00.544812Z"
    },
    "papermill": {
     "duration": 3.259954,
     "end_time": "2022-10-11T13:17:00.549418",
     "exception": false,
     "start_time": "2022-10-11T13:16:57.289464",
     "status": "completed"
    },
    "tags": []
   },
   "outputs": [
    {
     "name": "stdout",
     "output_type": "stream",
     "text": [
      "Setup complete.\n"
     ]
    }
   ],
   "source": [
    "import pandas as pd\n",
    "\n",
    "reviews = pd.read_csv(\"../input/wine-reviews/winemag-data-130k-v2.csv\", index_col=0)\n",
    "#pd.set_option(\"display.max_rows\", 5)\n",
    "\n",
    "from learntools.core import binder; binder.bind(globals())\n",
    "from learntools.pandas.grouping_and_sorting import *\n",
    "print(\"Setup complete.\")"
   ]
  },
  {
   "cell_type": "markdown",
   "id": "905a71c6",
   "metadata": {
    "papermill": {
     "duration": 0.00622,
     "end_time": "2022-10-11T13:17:00.562511",
     "exception": false,
     "start_time": "2022-10-11T13:17:00.556291",
     "status": "completed"
    },
    "tags": []
   },
   "source": [
    "# Exercises"
   ]
  },
  {
   "cell_type": "code",
   "execution_count": 2,
   "id": "6b17be3f",
   "metadata": {
    "execution": {
     "iopub.execute_input": "2022-10-11T13:17:00.577132Z",
     "iopub.status.busy": "2022-10-11T13:17:00.576665Z",
     "iopub.status.idle": "2022-10-11T13:17:00.583350Z",
     "shell.execute_reply": "2022-10-11T13:17:00.581539Z"
    },
    "papermill": {
     "duration": 0.017356,
     "end_time": "2022-10-11T13:17:00.586244",
     "exception": false,
     "start_time": "2022-10-11T13:17:00.568888",
     "status": "completed"
    },
    "tags": []
   },
   "outputs": [],
   "source": [
    "pd.set_option('display.max_columns',15)"
   ]
  },
  {
   "cell_type": "code",
   "execution_count": 3,
   "id": "e64d7dd7",
   "metadata": {
    "execution": {
     "iopub.execute_input": "2022-10-11T13:17:00.601650Z",
     "iopub.status.busy": "2022-10-11T13:17:00.600837Z",
     "iopub.status.idle": "2022-10-11T13:17:00.628896Z",
     "shell.execute_reply": "2022-10-11T13:17:00.627983Z"
    },
    "papermill": {
     "duration": 0.038666,
     "end_time": "2022-10-11T13:17:00.631574",
     "exception": false,
     "start_time": "2022-10-11T13:17:00.592908",
     "status": "completed"
    },
    "tags": []
   },
   "outputs": [
    {
     "data": {
      "text/html": [
       "<div>\n",
       "<style scoped>\n",
       "    .dataframe tbody tr th:only-of-type {\n",
       "        vertical-align: middle;\n",
       "    }\n",
       "\n",
       "    .dataframe tbody tr th {\n",
       "        vertical-align: top;\n",
       "    }\n",
       "\n",
       "    .dataframe thead th {\n",
       "        text-align: right;\n",
       "    }\n",
       "</style>\n",
       "<table border=\"1\" class=\"dataframe\">\n",
       "  <thead>\n",
       "    <tr style=\"text-align: right;\">\n",
       "      <th></th>\n",
       "      <th>country</th>\n",
       "      <th>description</th>\n",
       "      <th>designation</th>\n",
       "      <th>points</th>\n",
       "      <th>price</th>\n",
       "      <th>province</th>\n",
       "      <th>region_1</th>\n",
       "      <th>region_2</th>\n",
       "      <th>taster_name</th>\n",
       "      <th>taster_twitter_handle</th>\n",
       "      <th>title</th>\n",
       "      <th>variety</th>\n",
       "      <th>winery</th>\n",
       "    </tr>\n",
       "  </thead>\n",
       "  <tbody>\n",
       "    <tr>\n",
       "      <th>0</th>\n",
       "      <td>Italy</td>\n",
       "      <td>Aromas include tropical fruit, broom, brimston...</td>\n",
       "      <td>Vulkà Bianco</td>\n",
       "      <td>87</td>\n",
       "      <td>NaN</td>\n",
       "      <td>Sicily &amp; Sardinia</td>\n",
       "      <td>Etna</td>\n",
       "      <td>NaN</td>\n",
       "      <td>Kerin O’Keefe</td>\n",
       "      <td>@kerinokeefe</td>\n",
       "      <td>Nicosia 2013 Vulkà Bianco  (Etna)</td>\n",
       "      <td>White Blend</td>\n",
       "      <td>Nicosia</td>\n",
       "    </tr>\n",
       "    <tr>\n",
       "      <th>1</th>\n",
       "      <td>Portugal</td>\n",
       "      <td>This is ripe and fruity, a wine that is smooth...</td>\n",
       "      <td>Avidagos</td>\n",
       "      <td>87</td>\n",
       "      <td>15.0</td>\n",
       "      <td>Douro</td>\n",
       "      <td>NaN</td>\n",
       "      <td>NaN</td>\n",
       "      <td>Roger Voss</td>\n",
       "      <td>@vossroger</td>\n",
       "      <td>Quinta dos Avidagos 2011 Avidagos Red (Douro)</td>\n",
       "      <td>Portuguese Red</td>\n",
       "      <td>Quinta dos Avidagos</td>\n",
       "    </tr>\n",
       "    <tr>\n",
       "      <th>2</th>\n",
       "      <td>US</td>\n",
       "      <td>Tart and snappy, the flavors of lime flesh and...</td>\n",
       "      <td>NaN</td>\n",
       "      <td>87</td>\n",
       "      <td>14.0</td>\n",
       "      <td>Oregon</td>\n",
       "      <td>Willamette Valley</td>\n",
       "      <td>Willamette Valley</td>\n",
       "      <td>Paul Gregutt</td>\n",
       "      <td>@paulgwine</td>\n",
       "      <td>Rainstorm 2013 Pinot Gris (Willamette Valley)</td>\n",
       "      <td>Pinot Gris</td>\n",
       "      <td>Rainstorm</td>\n",
       "    </tr>\n",
       "    <tr>\n",
       "      <th>3</th>\n",
       "      <td>US</td>\n",
       "      <td>Pineapple rind, lemon pith and orange blossom ...</td>\n",
       "      <td>Reserve Late Harvest</td>\n",
       "      <td>87</td>\n",
       "      <td>13.0</td>\n",
       "      <td>Michigan</td>\n",
       "      <td>Lake Michigan Shore</td>\n",
       "      <td>NaN</td>\n",
       "      <td>Alexander Peartree</td>\n",
       "      <td>NaN</td>\n",
       "      <td>St. Julian 2013 Reserve Late Harvest Riesling ...</td>\n",
       "      <td>Riesling</td>\n",
       "      <td>St. Julian</td>\n",
       "    </tr>\n",
       "    <tr>\n",
       "      <th>4</th>\n",
       "      <td>US</td>\n",
       "      <td>Much like the regular bottling from 2012, this...</td>\n",
       "      <td>Vintner's Reserve Wild Child Block</td>\n",
       "      <td>87</td>\n",
       "      <td>65.0</td>\n",
       "      <td>Oregon</td>\n",
       "      <td>Willamette Valley</td>\n",
       "      <td>Willamette Valley</td>\n",
       "      <td>Paul Gregutt</td>\n",
       "      <td>@paulgwine</td>\n",
       "      <td>Sweet Cheeks 2012 Vintner's Reserve Wild Child...</td>\n",
       "      <td>Pinot Noir</td>\n",
       "      <td>Sweet Cheeks</td>\n",
       "    </tr>\n",
       "  </tbody>\n",
       "</table>\n",
       "</div>"
      ],
      "text/plain": [
       "    country                                        description  \\\n",
       "0     Italy  Aromas include tropical fruit, broom, brimston...   \n",
       "1  Portugal  This is ripe and fruity, a wine that is smooth...   \n",
       "2        US  Tart and snappy, the flavors of lime flesh and...   \n",
       "3        US  Pineapple rind, lemon pith and orange blossom ...   \n",
       "4        US  Much like the regular bottling from 2012, this...   \n",
       "\n",
       "                          designation  points  price           province  \\\n",
       "0                        Vulkà Bianco      87    NaN  Sicily & Sardinia   \n",
       "1                            Avidagos      87   15.0              Douro   \n",
       "2                                 NaN      87   14.0             Oregon   \n",
       "3                Reserve Late Harvest      87   13.0           Michigan   \n",
       "4  Vintner's Reserve Wild Child Block      87   65.0             Oregon   \n",
       "\n",
       "              region_1           region_2         taster_name  \\\n",
       "0                 Etna                NaN       Kerin O’Keefe   \n",
       "1                  NaN                NaN          Roger Voss   \n",
       "2    Willamette Valley  Willamette Valley        Paul Gregutt   \n",
       "3  Lake Michigan Shore                NaN  Alexander Peartree   \n",
       "4    Willamette Valley  Willamette Valley        Paul Gregutt   \n",
       "\n",
       "  taster_twitter_handle                                              title  \\\n",
       "0          @kerinokeefe                  Nicosia 2013 Vulkà Bianco  (Etna)   \n",
       "1            @vossroger      Quinta dos Avidagos 2011 Avidagos Red (Douro)   \n",
       "2           @paulgwine       Rainstorm 2013 Pinot Gris (Willamette Valley)   \n",
       "3                   NaN  St. Julian 2013 Reserve Late Harvest Riesling ...   \n",
       "4           @paulgwine   Sweet Cheeks 2012 Vintner's Reserve Wild Child...   \n",
       "\n",
       "          variety               winery  \n",
       "0     White Blend              Nicosia  \n",
       "1  Portuguese Red  Quinta dos Avidagos  \n",
       "2      Pinot Gris            Rainstorm  \n",
       "3        Riesling           St. Julian  \n",
       "4      Pinot Noir         Sweet Cheeks  "
      ]
     },
     "execution_count": 3,
     "metadata": {},
     "output_type": "execute_result"
    }
   ],
   "source": [
    "reviews.head()"
   ]
  },
  {
   "cell_type": "markdown",
   "id": "eae2f9e0",
   "metadata": {
    "papermill": {
     "duration": 0.007227,
     "end_time": "2022-10-11T13:17:00.646691",
     "exception": false,
     "start_time": "2022-10-11T13:17:00.639464",
     "status": "completed"
    },
    "tags": []
   },
   "source": [
    "## 1.\n",
    "Who are the most common wine reviewers in the dataset? Create a `Series` whose index is the `taster_twitter_handle` category from the dataset, and whose values count how many reviews each person wrote."
   ]
  },
  {
   "cell_type": "code",
   "execution_count": 4,
   "id": "734fba74",
   "metadata": {
    "execution": {
     "iopub.execute_input": "2022-10-11T13:17:00.664043Z",
     "iopub.status.busy": "2022-10-11T13:17:00.663371Z",
     "iopub.status.idle": "2022-10-11T13:17:00.689400Z",
     "shell.execute_reply": "2022-10-11T13:17:00.688079Z"
    },
    "papermill": {
     "duration": 0.037856,
     "end_time": "2022-10-11T13:17:00.692187",
     "exception": false,
     "start_time": "2022-10-11T13:17:00.654331",
     "status": "completed"
    },
    "tags": []
   },
   "outputs": [
    {
     "data": {
      "text/plain": [
       "taster_twitter_handle\n",
       "@AnneInVino          3685\n",
       "@JoeCz               5147\n",
       "@bkfiona               27\n",
       "@gordone_cellars     4177\n",
       "@kerinokeefe        10776\n",
       "@laurbuzz            1835\n",
       "@mattkettmann        6332\n",
       "@paulgwine           9532\n",
       "@suskostrzewa        1085\n",
       "@vboone              9537\n",
       "@vossroger          25514\n",
       "@wawinereport        4966\n",
       "@wineschach         15134\n",
       "@winewchristina         6\n",
       "@worldwineguys       1005\n",
       "Name: taster_twitter_handle, dtype: int64"
      ]
     },
     "execution_count": 4,
     "metadata": {},
     "output_type": "execute_result"
    }
   ],
   "source": [
    "sr=reviews.groupby(['taster_twitter_handle']).taster_twitter_handle.count()\n",
    "sr"
   ]
  },
  {
   "cell_type": "code",
   "execution_count": 5,
   "id": "167a8355",
   "metadata": {
    "execution": {
     "iopub.execute_input": "2022-10-11T13:17:00.709068Z",
     "iopub.status.busy": "2022-10-11T13:17:00.708602Z",
     "iopub.status.idle": "2022-10-11T13:17:00.738602Z",
     "shell.execute_reply": "2022-10-11T13:17:00.737431Z"
    },
    "papermill": {
     "duration": 0.041188,
     "end_time": "2022-10-11T13:17:00.740864",
     "exception": false,
     "start_time": "2022-10-11T13:17:00.699676",
     "status": "completed"
    },
    "tags": []
   },
   "outputs": [
    {
     "data": {
      "application/javascript": [
       "parent.postMessage({\"jupyterEvent\": \"custom.exercise_interaction\", \"data\": {\"outcomeType\": 1, \"valueTowardsCompletion\": 0.16666666666666666, \"interactionType\": 1, \"questionType\": 1, \"questionId\": \"1_ReviewsWritten\", \"learnToolsVersion\": \"0.3.4\", \"failureMessage\": \"\", \"exceptionClass\": \"\", \"trace\": \"\"}}, \"*\")"
      ],
      "text/plain": [
       "<IPython.core.display.Javascript object>"
      ]
     },
     "metadata": {},
     "output_type": "display_data"
    },
    {
     "data": {
      "text/markdown": [
       "<span style=\"color:#33cc33\">Correct:</span> \n",
       "\n",
       "\n",
       "```python\n",
       "reviews_written = reviews.groupby('taster_twitter_handle').size()\n",
       "```\n",
       "or\n",
       "```python\n",
       "reviews_written = reviews.groupby('taster_twitter_handle').taster_twitter_handle.count()\n",
       "```\n"
      ],
      "text/plain": [
       "Correct: \n",
       "\n",
       "\n",
       "```python\n",
       "reviews_written = reviews.groupby('taster_twitter_handle').size()\n",
       "```\n",
       "or\n",
       "```python\n",
       "reviews_written = reviews.groupby('taster_twitter_handle').taster_twitter_handle.count()\n",
       "```"
      ]
     },
     "metadata": {},
     "output_type": "display_data"
    }
   ],
   "source": [
    "# Your code here\n",
    "reviews_written = reviews.groupby(['taster_twitter_handle']).taster_twitter_handle.count()\n",
    "\n",
    "# Check your answer\n",
    "q1.check()"
   ]
  },
  {
   "cell_type": "code",
   "execution_count": 6,
   "id": "e40254bd",
   "metadata": {
    "execution": {
     "iopub.execute_input": "2022-10-11T13:17:00.758521Z",
     "iopub.status.busy": "2022-10-11T13:17:00.757262Z",
     "iopub.status.idle": "2022-10-11T13:17:00.762954Z",
     "shell.execute_reply": "2022-10-11T13:17:00.761919Z"
    },
    "papermill": {
     "duration": 0.017292,
     "end_time": "2022-10-11T13:17:00.765586",
     "exception": false,
     "start_time": "2022-10-11T13:17:00.748294",
     "status": "completed"
    },
    "tags": []
   },
   "outputs": [],
   "source": [
    "#q1.hint()\n",
    "#q1.solution()"
   ]
  },
  {
   "cell_type": "markdown",
   "id": "17843009",
   "metadata": {
    "papermill": {
     "duration": 0.007044,
     "end_time": "2022-10-11T13:17:00.780103",
     "exception": false,
     "start_time": "2022-10-11T13:17:00.773059",
     "status": "completed"
    },
    "tags": []
   },
   "source": [
    "## 2.\n",
    "What is the best wine I can buy for a given amount of money? Create a `Series` whose index is wine prices and whose values is the maximum number of points a wine costing that much was given in a review. Sort the values by price, ascending (so that `4.0` dollars is at the top and `3300.0` dollars is at the bottom)."
   ]
  },
  {
   "cell_type": "code",
   "execution_count": 7,
   "id": "ed64a13e",
   "metadata": {
    "execution": {
     "iopub.execute_input": "2022-10-11T13:17:00.798808Z",
     "iopub.status.busy": "2022-10-11T13:17:00.797619Z",
     "iopub.status.idle": "2022-10-11T13:17:00.812903Z",
     "shell.execute_reply": "2022-10-11T13:17:00.812069Z"
    },
    "papermill": {
     "duration": 0.026243,
     "end_time": "2022-10-11T13:17:00.814989",
     "exception": false,
     "start_time": "2022-10-11T13:17:00.788746",
     "status": "completed"
    },
    "tags": []
   },
   "outputs": [
    {
     "data": {
      "application/javascript": [
       "parent.postMessage({\"jupyterEvent\": \"custom.exercise_interaction\", \"data\": {\"outcomeType\": 1, \"valueTowardsCompletion\": 0.16666666666666666, \"interactionType\": 1, \"questionType\": 1, \"questionId\": \"2_BestRatingPerPrice\", \"learnToolsVersion\": \"0.3.4\", \"failureMessage\": \"\", \"exceptionClass\": \"\", \"trace\": \"\"}}, \"*\")"
      ],
      "text/plain": [
       "<IPython.core.display.Javascript object>"
      ]
     },
     "metadata": {},
     "output_type": "display_data"
    },
    {
     "data": {
      "text/markdown": [
       "<span style=\"color:#33cc33\">Correct</span>"
      ],
      "text/plain": [
       "Correct"
      ]
     },
     "metadata": {},
     "output_type": "display_data"
    }
   ],
   "source": [
    "best_rating_per_price =reviews.groupby('price')['points'].max().sort_index()\n",
    "\n",
    "# Check your answer\n",
    "q2.check()"
   ]
  },
  {
   "cell_type": "code",
   "execution_count": 8,
   "id": "eede1f44",
   "metadata": {
    "execution": {
     "iopub.execute_input": "2022-10-11T13:17:00.832107Z",
     "iopub.status.busy": "2022-10-11T13:17:00.831601Z",
     "iopub.status.idle": "2022-10-11T13:17:00.837246Z",
     "shell.execute_reply": "2022-10-11T13:17:00.836010Z"
    },
    "papermill": {
     "duration": 0.01692,
     "end_time": "2022-10-11T13:17:00.839578",
     "exception": false,
     "start_time": "2022-10-11T13:17:00.822658",
     "status": "completed"
    },
    "tags": []
   },
   "outputs": [],
   "source": [
    "#q2.hint()\n",
    "#q2.solution()"
   ]
  },
  {
   "cell_type": "markdown",
   "id": "dd893001",
   "metadata": {
    "papermill": {
     "duration": 0.007573,
     "end_time": "2022-10-11T13:17:00.855163",
     "exception": false,
     "start_time": "2022-10-11T13:17:00.847590",
     "status": "completed"
    },
    "tags": []
   },
   "source": [
    "## 3.\n",
    "What are the minimum and maximum prices for each `variety` of wine? Create a `DataFrame` whose index is the `variety` category from the dataset and whose values are the `min` and `max` values thereof."
   ]
  },
  {
   "cell_type": "code",
   "execution_count": 9,
   "id": "09d3c64a",
   "metadata": {
    "execution": {
     "iopub.execute_input": "2022-10-11T13:17:00.873091Z",
     "iopub.status.busy": "2022-10-11T13:17:00.872581Z",
     "iopub.status.idle": "2022-10-11T13:17:00.900388Z",
     "shell.execute_reply": "2022-10-11T13:17:00.898967Z"
    },
    "papermill": {
     "duration": 0.040024,
     "end_time": "2022-10-11T13:17:00.903231",
     "exception": false,
     "start_time": "2022-10-11T13:17:00.863207",
     "status": "completed"
    },
    "tags": []
   },
   "outputs": [
    {
     "data": {
      "application/javascript": [
       "parent.postMessage({\"jupyterEvent\": \"custom.exercise_interaction\", \"data\": {\"outcomeType\": 1, \"valueTowardsCompletion\": 0.16666666666666666, \"interactionType\": 1, \"questionType\": 1, \"questionId\": \"3_PriceExtremes\", \"learnToolsVersion\": \"0.3.4\", \"failureMessage\": \"\", \"exceptionClass\": \"\", \"trace\": \"\"}}, \"*\")"
      ],
      "text/plain": [
       "<IPython.core.display.Javascript object>"
      ]
     },
     "metadata": {},
     "output_type": "display_data"
    },
    {
     "data": {
      "text/markdown": [
       "<span style=\"color:#33cc33\">Correct</span>"
      ],
      "text/plain": [
       "Correct"
      ]
     },
     "metadata": {},
     "output_type": "display_data"
    }
   ],
   "source": [
    "price_extremes = reviews.groupby(['variety']).price.agg([min,max])\n",
    "\n",
    "# Check your answer\n",
    "q3.check()"
   ]
  },
  {
   "cell_type": "code",
   "execution_count": 10,
   "id": "bb61eba1",
   "metadata": {
    "execution": {
     "iopub.execute_input": "2022-10-11T13:17:00.922484Z",
     "iopub.status.busy": "2022-10-11T13:17:00.921490Z",
     "iopub.status.idle": "2022-10-11T13:17:00.926830Z",
     "shell.execute_reply": "2022-10-11T13:17:00.925643Z"
    },
    "papermill": {
     "duration": 0.017712,
     "end_time": "2022-10-11T13:17:00.929437",
     "exception": false,
     "start_time": "2022-10-11T13:17:00.911725",
     "status": "completed"
    },
    "tags": []
   },
   "outputs": [],
   "source": [
    "#q3.hint()\n",
    "#q3.solution()"
   ]
  },
  {
   "cell_type": "markdown",
   "id": "015ebbe1",
   "metadata": {
    "papermill": {
     "duration": 0.00781,
     "end_time": "2022-10-11T13:17:00.945859",
     "exception": false,
     "start_time": "2022-10-11T13:17:00.938049",
     "status": "completed"
    },
    "tags": []
   },
   "source": [
    "## 4.\n",
    "What are the most expensive wine varieties? Create a variable `sorted_varieties` containing a copy of the dataframe from the previous question where varieties are sorted in descending order based on minimum price, then on maximum price (to break ties)."
   ]
  },
  {
   "cell_type": "code",
   "execution_count": 11,
   "id": "d02be520",
   "metadata": {
    "execution": {
     "iopub.execute_input": "2022-10-11T13:17:00.963894Z",
     "iopub.status.busy": "2022-10-11T13:17:00.963449Z",
     "iopub.status.idle": "2022-10-11T13:17:00.977165Z",
     "shell.execute_reply": "2022-10-11T13:17:00.976115Z"
    },
    "papermill": {
     "duration": 0.025397,
     "end_time": "2022-10-11T13:17:00.979443",
     "exception": false,
     "start_time": "2022-10-11T13:17:00.954046",
     "status": "completed"
    },
    "tags": []
   },
   "outputs": [
    {
     "data": {
      "application/javascript": [
       "parent.postMessage({\"jupyterEvent\": \"custom.exercise_interaction\", \"data\": {\"outcomeType\": 1, \"valueTowardsCompletion\": 0.16666666666666666, \"interactionType\": 1, \"questionType\": 1, \"questionId\": \"4_SortedVarieties\", \"learnToolsVersion\": \"0.3.4\", \"failureMessage\": \"\", \"exceptionClass\": \"\", \"trace\": \"\"}}, \"*\")"
      ],
      "text/plain": [
       "<IPython.core.display.Javascript object>"
      ]
     },
     "metadata": {},
     "output_type": "display_data"
    },
    {
     "data": {
      "text/markdown": [
       "<span style=\"color:#33cc33\">Correct</span>"
      ],
      "text/plain": [
       "Correct"
      ]
     },
     "metadata": {},
     "output_type": "display_data"
    }
   ],
   "source": [
    "sorted_varieties = price_extremes.sort_values(by=['min','max'],ascending=False)\n",
    "\n",
    "# Check your answer\n",
    "q4.check()"
   ]
  },
  {
   "cell_type": "code",
   "execution_count": 12,
   "id": "0ee52212",
   "metadata": {
    "execution": {
     "iopub.execute_input": "2022-10-11T13:17:00.998849Z",
     "iopub.status.busy": "2022-10-11T13:17:00.998434Z",
     "iopub.status.idle": "2022-10-11T13:17:01.003580Z",
     "shell.execute_reply": "2022-10-11T13:17:01.002059Z"
    },
    "papermill": {
     "duration": 0.017944,
     "end_time": "2022-10-11T13:17:01.006244",
     "exception": false,
     "start_time": "2022-10-11T13:17:00.988300",
     "status": "completed"
    },
    "tags": []
   },
   "outputs": [],
   "source": [
    "#q4.hint()\n",
    "#q4.solution()"
   ]
  },
  {
   "cell_type": "markdown",
   "id": "5ba6e7af",
   "metadata": {
    "papermill": {
     "duration": 0.007964,
     "end_time": "2022-10-11T13:17:01.022698",
     "exception": false,
     "start_time": "2022-10-11T13:17:01.014734",
     "status": "completed"
    },
    "tags": []
   },
   "source": [
    "## 5.\n",
    "Create a `Series` whose index is reviewers and whose values is the average review score given out by that reviewer. Hint: you will need the `taster_name` and `points` columns."
   ]
  },
  {
   "cell_type": "code",
   "execution_count": 13,
   "id": "3790357c",
   "metadata": {
    "execution": {
     "iopub.execute_input": "2022-10-11T13:17:01.041540Z",
     "iopub.status.busy": "2022-10-11T13:17:01.041128Z",
     "iopub.status.idle": "2022-10-11T13:17:01.062621Z",
     "shell.execute_reply": "2022-10-11T13:17:01.061306Z"
    },
    "papermill": {
     "duration": 0.033926,
     "end_time": "2022-10-11T13:17:01.065027",
     "exception": false,
     "start_time": "2022-10-11T13:17:01.031101",
     "status": "completed"
    },
    "tags": []
   },
   "outputs": [
    {
     "data": {
      "application/javascript": [
       "parent.postMessage({\"jupyterEvent\": \"custom.exercise_interaction\", \"data\": {\"outcomeType\": 1, \"valueTowardsCompletion\": 0.16666666666666666, \"interactionType\": 1, \"questionType\": 1, \"questionId\": \"5_ReviewerMeanRatings\", \"learnToolsVersion\": \"0.3.4\", \"failureMessage\": \"\", \"exceptionClass\": \"\", \"trace\": \"\"}}, \"*\")"
      ],
      "text/plain": [
       "<IPython.core.display.Javascript object>"
      ]
     },
     "metadata": {},
     "output_type": "display_data"
    },
    {
     "data": {
      "text/markdown": [
       "<span style=\"color:#33cc33\">Correct</span>"
      ],
      "text/plain": [
       "Correct"
      ]
     },
     "metadata": {},
     "output_type": "display_data"
    }
   ],
   "source": [
    "reviewer_mean_ratings = reviews.groupby('taster_name').points.mean()\n",
    "\n",
    "# Check your answer\n",
    "q5.check()"
   ]
  },
  {
   "cell_type": "code",
   "execution_count": 14,
   "id": "bb966651",
   "metadata": {
    "execution": {
     "iopub.execute_input": "2022-10-11T13:17:01.083666Z",
     "iopub.status.busy": "2022-10-11T13:17:01.083274Z",
     "iopub.status.idle": "2022-10-11T13:17:01.088177Z",
     "shell.execute_reply": "2022-10-11T13:17:01.086741Z"
    },
    "papermill": {
     "duration": 0.017109,
     "end_time": "2022-10-11T13:17:01.090445",
     "exception": false,
     "start_time": "2022-10-11T13:17:01.073336",
     "status": "completed"
    },
    "tags": []
   },
   "outputs": [],
   "source": [
    "#q5.hint()\n",
    "#q5.solution()"
   ]
  },
  {
   "cell_type": "markdown",
   "id": "8e674218",
   "metadata": {
    "papermill": {
     "duration": 0.007947,
     "end_time": "2022-10-11T13:17:01.106765",
     "exception": false,
     "start_time": "2022-10-11T13:17:01.098818",
     "status": "completed"
    },
    "tags": []
   },
   "source": [
    "Are there significant differences in the average scores assigned by the various reviewers? Run the cell below to use the `describe()` method to see a summary of the range of values."
   ]
  },
  {
   "cell_type": "code",
   "execution_count": 15,
   "id": "0bf9a790",
   "metadata": {
    "execution": {
     "iopub.execute_input": "2022-10-11T13:17:01.125196Z",
     "iopub.status.busy": "2022-10-11T13:17:01.124731Z",
     "iopub.status.idle": "2022-10-11T13:17:01.137269Z",
     "shell.execute_reply": "2022-10-11T13:17:01.136407Z"
    },
    "papermill": {
     "duration": 0.024239,
     "end_time": "2022-10-11T13:17:01.139456",
     "exception": false,
     "start_time": "2022-10-11T13:17:01.115217",
     "status": "completed"
    },
    "tags": []
   },
   "outputs": [
    {
     "data": {
      "text/plain": [
       "count    19.000000\n",
       "mean     88.233026\n",
       "std       1.243610\n",
       "min      85.855422\n",
       "25%      87.323501\n",
       "50%      88.536235\n",
       "75%      88.975256\n",
       "max      90.562551\n",
       "Name: points, dtype: float64"
      ]
     },
     "execution_count": 15,
     "metadata": {},
     "output_type": "execute_result"
    }
   ],
   "source": [
    "reviewer_mean_ratings.describe()"
   ]
  },
  {
   "cell_type": "markdown",
   "id": "10edb251",
   "metadata": {
    "papermill": {
     "duration": 0.008228,
     "end_time": "2022-10-11T13:17:01.156104",
     "exception": false,
     "start_time": "2022-10-11T13:17:01.147876",
     "status": "completed"
    },
    "tags": []
   },
   "source": [
    "## 6.\n",
    "What combination of countries and varieties are most common? Create a `Series` whose index is a `MultiIndex`of `{country, variety}` pairs. For example, a pinot noir produced in the US should map to `{\"US\", \"Pinot Noir\"}`. Sort the values in the `Series` in descending order based on wine count."
   ]
  },
  {
   "cell_type": "code",
   "execution_count": 16,
   "id": "89520131",
   "metadata": {
    "execution": {
     "iopub.execute_input": "2022-10-11T13:17:01.175111Z",
     "iopub.status.busy": "2022-10-11T13:17:01.174174Z",
     "iopub.status.idle": "2022-10-11T13:17:01.211935Z",
     "shell.execute_reply": "2022-10-11T13:17:01.210721Z"
    },
    "papermill": {
     "duration": 0.049912,
     "end_time": "2022-10-11T13:17:01.214398",
     "exception": false,
     "start_time": "2022-10-11T13:17:01.164486",
     "status": "completed"
    },
    "tags": []
   },
   "outputs": [
    {
     "data": {
      "application/javascript": [
       "parent.postMessage({\"jupyterEvent\": \"custom.exercise_interaction\", \"data\": {\"outcomeType\": 1, \"valueTowardsCompletion\": 0.16666666666666666, \"interactionType\": 1, \"questionType\": 1, \"questionId\": \"6_GroupbyCountryVariety\", \"learnToolsVersion\": \"0.3.4\", \"failureMessage\": \"\", \"exceptionClass\": \"\", \"trace\": \"\"}}, \"*\")"
      ],
      "text/plain": [
       "<IPython.core.display.Javascript object>"
      ]
     },
     "metadata": {},
     "output_type": "display_data"
    },
    {
     "data": {
      "text/markdown": [
       "<span style=\"color:#33cc33\">Correct</span>"
      ],
      "text/plain": [
       "Correct"
      ]
     },
     "metadata": {},
     "output_type": "display_data"
    }
   ],
   "source": [
    "country_variety_counts = reviews.groupby(['country','variety']).size().sort_values(ascending=False)\n",
    "\n",
    "# Check your answer\n",
    "q6.check()"
   ]
  },
  {
   "cell_type": "code",
   "execution_count": 17,
   "id": "f4d59c4f",
   "metadata": {
    "execution": {
     "iopub.execute_input": "2022-10-11T13:17:01.234746Z",
     "iopub.status.busy": "2022-10-11T13:17:01.234337Z",
     "iopub.status.idle": "2022-10-11T13:17:01.239358Z",
     "shell.execute_reply": "2022-10-11T13:17:01.237924Z"
    },
    "papermill": {
     "duration": 0.018939,
     "end_time": "2022-10-11T13:17:01.242161",
     "exception": false,
     "start_time": "2022-10-11T13:17:01.223222",
     "status": "completed"
    },
    "tags": []
   },
   "outputs": [],
   "source": [
    "#q6.hint()\n",
    "#q6.solution()"
   ]
  },
  {
   "cell_type": "markdown",
   "id": "376c085d",
   "metadata": {
    "papermill": {
     "duration": 0.008923,
     "end_time": "2022-10-11T13:17:01.260317",
     "exception": false,
     "start_time": "2022-10-11T13:17:01.251394",
     "status": "completed"
    },
    "tags": []
   },
   "source": [
    "# Keep going\n",
    "\n",
    "Move on to the [**data types and missing data**](https://www.kaggle.com/residentmario/data-types-and-missing-values)."
   ]
  },
  {
   "cell_type": "markdown",
   "id": "7ecbece8",
   "metadata": {
    "papermill": {
     "duration": 0.008846,
     "end_time": "2022-10-11T13:17:01.278322",
     "exception": false,
     "start_time": "2022-10-11T13:17:01.269476",
     "status": "completed"
    },
    "tags": []
   },
   "source": [
    "---\n",
    "\n",
    "\n",
    "\n",
    "\n",
    "*Have questions or comments? Visit the [course discussion forum](https://www.kaggle.com/learn/pandas/discussion) to chat with other learners.*"
   ]
  }
 ],
 "metadata": {
  "kernelspec": {
   "display_name": "Python 3",
   "language": "python",
   "name": "python3"
  },
  "language_info": {
   "codemirror_mode": {
    "name": "ipython",
    "version": 3
   },
   "file_extension": ".py",
   "mimetype": "text/x-python",
   "name": "python",
   "nbconvert_exporter": "python",
   "pygments_lexer": "ipython3",
   "version": "3.7.12"
  },
  "papermill": {
   "default_parameters": {},
   "duration": 14.472969,
   "end_time": "2022-10-11T13:17:02.011049",
   "environment_variables": {},
   "exception": null,
   "input_path": "__notebook__.ipynb",
   "output_path": "__notebook__.ipynb",
   "parameters": {},
   "start_time": "2022-10-11T13:16:47.538080",
   "version": "2.3.4"
  }
 },
 "nbformat": 4,
 "nbformat_minor": 5
}
