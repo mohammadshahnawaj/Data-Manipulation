{
 "cells": [
  {
   "cell_type": "markdown",
   "id": "202075c6",
   "metadata": {
    "papermill": {
     "duration": 0.005565,
     "end_time": "2022-10-11T13:57:20.379638",
     "exception": false,
     "start_time": "2022-10-11T13:57:20.374073",
     "status": "completed"
    },
    "tags": []
   },
   "source": [
    "**This notebook is an exercise in the [Pandas](https://www.kaggle.com/learn/pandas) course.  You can reference the tutorial at [this link](https://www.kaggle.com/residentmario/data-types-and-missing-values).**\n",
    "\n",
    "---\n"
   ]
  },
  {
   "cell_type": "markdown",
   "id": "698bd302",
   "metadata": {
    "papermill": {
     "duration": 0.004005,
     "end_time": "2022-10-11T13:57:20.388181",
     "exception": false,
     "start_time": "2022-10-11T13:57:20.384176",
     "status": "completed"
    },
    "tags": []
   },
   "source": [
    "# Introduction\n",
    "\n",
    "Run the following cell to load your data and some utility functions."
   ]
  },
  {
   "cell_type": "code",
   "execution_count": 1,
   "id": "b29d046e",
   "metadata": {
    "execution": {
     "iopub.execute_input": "2022-10-11T13:57:20.399418Z",
     "iopub.status.busy": "2022-10-11T13:57:20.398566Z",
     "iopub.status.idle": "2022-10-11T13:57:23.435453Z",
     "shell.execute_reply": "2022-10-11T13:57:23.434338Z"
    },
    "papermill": {
     "duration": 3.045904,
     "end_time": "2022-10-11T13:57:23.438407",
     "exception": false,
     "start_time": "2022-10-11T13:57:20.392503",
     "status": "completed"
    },
    "tags": []
   },
   "outputs": [
    {
     "name": "stdout",
     "output_type": "stream",
     "text": [
      "Setup complete.\n"
     ]
    }
   ],
   "source": [
    "import pandas as pd\n",
    "\n",
    "reviews = pd.read_csv(\"../input/wine-reviews/winemag-data-130k-v2.csv\", index_col=0)\n",
    "\n",
    "from learntools.core import binder; binder.bind(globals())\n",
    "from learntools.pandas.data_types_and_missing_data import *\n",
    "print(\"Setup complete.\")"
   ]
  },
  {
   "cell_type": "markdown",
   "id": "9fa4e647",
   "metadata": {
    "papermill": {
     "duration": 0.004108,
     "end_time": "2022-10-11T13:57:23.447051",
     "exception": false,
     "start_time": "2022-10-11T13:57:23.442943",
     "status": "completed"
    },
    "tags": []
   },
   "source": [
    "# Exercises"
   ]
  },
  {
   "cell_type": "markdown",
   "id": "da52be5f",
   "metadata": {
    "papermill": {
     "duration": 0.003983,
     "end_time": "2022-10-11T13:57:23.455407",
     "exception": false,
     "start_time": "2022-10-11T13:57:23.451424",
     "status": "completed"
    },
    "tags": []
   },
   "source": [
    "## 1. \n",
    "What is the data type of the `points` column in the dataset?"
   ]
  },
  {
   "cell_type": "code",
   "execution_count": 2,
   "id": "a740c2db",
   "metadata": {
    "execution": {
     "iopub.execute_input": "2022-10-11T13:57:23.465965Z",
     "iopub.status.busy": "2022-10-11T13:57:23.465588Z",
     "iopub.status.idle": "2022-10-11T13:57:23.476580Z",
     "shell.execute_reply": "2022-10-11T13:57:23.475623Z"
    },
    "papermill": {
     "duration": 0.019028,
     "end_time": "2022-10-11T13:57:23.478689",
     "exception": false,
     "start_time": "2022-10-11T13:57:23.459661",
     "status": "completed"
    },
    "tags": []
   },
   "outputs": [
    {
     "data": {
      "application/javascript": [
       "parent.postMessage({\"jupyterEvent\": \"custom.exercise_interaction\", \"data\": {\"outcomeType\": 1, \"valueTowardsCompletion\": 0.25, \"interactionType\": 1, \"questionType\": 1, \"questionId\": \"1_PointsDtype\", \"learnToolsVersion\": \"0.3.4\", \"failureMessage\": \"\", \"exceptionClass\": \"\", \"trace\": \"\"}}, \"*\")"
      ],
      "text/plain": [
       "<IPython.core.display.Javascript object>"
      ]
     },
     "metadata": {},
     "output_type": "display_data"
    },
    {
     "data": {
      "text/markdown": [
       "<span style=\"color:#33cc33\">Correct</span>"
      ],
      "text/plain": [
       "Correct"
      ]
     },
     "metadata": {},
     "output_type": "display_data"
    }
   ],
   "source": [
    "# Your code here\n",
    "dtype = reviews.points.dtype\n",
    "\n",
    "# Check your answer\n",
    "q1.check()"
   ]
  },
  {
   "cell_type": "code",
   "execution_count": 3,
   "id": "1908c984",
   "metadata": {
    "execution": {
     "iopub.execute_input": "2022-10-11T13:57:23.489613Z",
     "iopub.status.busy": "2022-10-11T13:57:23.489217Z",
     "iopub.status.idle": "2022-10-11T13:57:23.493315Z",
     "shell.execute_reply": "2022-10-11T13:57:23.492227Z"
    },
    "papermill": {
     "duration": 0.012112,
     "end_time": "2022-10-11T13:57:23.495544",
     "exception": false,
     "start_time": "2022-10-11T13:57:23.483432",
     "status": "completed"
    },
    "tags": []
   },
   "outputs": [],
   "source": [
    "#q1.hint()\n",
    "#q1.solution()"
   ]
  },
  {
   "cell_type": "markdown",
   "id": "c1359567",
   "metadata": {
    "papermill": {
     "duration": 0.004453,
     "end_time": "2022-10-11T13:57:23.504756",
     "exception": false,
     "start_time": "2022-10-11T13:57:23.500303",
     "status": "completed"
    },
    "tags": []
   },
   "source": [
    "## 2. \n",
    "Create a Series from entries in the `points` column, but convert the entries to strings. Hint: strings are `str` in native Python."
   ]
  },
  {
   "cell_type": "code",
   "execution_count": 4,
   "id": "3403d7b1",
   "metadata": {
    "execution": {
     "iopub.execute_input": "2022-10-11T13:57:23.516430Z",
     "iopub.status.busy": "2022-10-11T13:57:23.516040Z",
     "iopub.status.idle": "2022-10-11T13:57:23.598481Z",
     "shell.execute_reply": "2022-10-11T13:57:23.597306Z"
    },
    "papermill": {
     "duration": 0.09093,
     "end_time": "2022-10-11T13:57:23.600592",
     "exception": false,
     "start_time": "2022-10-11T13:57:23.509662",
     "status": "completed"
    },
    "tags": []
   },
   "outputs": [
    {
     "data": {
      "application/javascript": [
       "parent.postMessage({\"jupyterEvent\": \"custom.exercise_interaction\", \"data\": {\"outcomeType\": 1, \"valueTowardsCompletion\": 0.25, \"interactionType\": 1, \"questionType\": 1, \"questionId\": \"2_StrPoints\", \"learnToolsVersion\": \"0.3.4\", \"failureMessage\": \"\", \"exceptionClass\": \"\", \"trace\": \"\"}}, \"*\")"
      ],
      "text/plain": [
       "<IPython.core.display.Javascript object>"
      ]
     },
     "metadata": {},
     "output_type": "display_data"
    },
    {
     "data": {
      "text/markdown": [
       "<span style=\"color:#33cc33\">Correct</span>"
      ],
      "text/plain": [
       "Correct"
      ]
     },
     "metadata": {},
     "output_type": "display_data"
    }
   ],
   "source": [
    "point_strings = reviews.points.astype('str')\n",
    "\n",
    "# Check your answer\n",
    "q2.check()"
   ]
  },
  {
   "cell_type": "code",
   "execution_count": 5,
   "id": "1443ce82",
   "metadata": {
    "execution": {
     "iopub.execute_input": "2022-10-11T13:57:23.611945Z",
     "iopub.status.busy": "2022-10-11T13:57:23.611547Z",
     "iopub.status.idle": "2022-10-11T13:57:23.616259Z",
     "shell.execute_reply": "2022-10-11T13:57:23.615067Z"
    },
    "papermill": {
     "duration": 0.012752,
     "end_time": "2022-10-11T13:57:23.618323",
     "exception": false,
     "start_time": "2022-10-11T13:57:23.605571",
     "status": "completed"
    },
    "tags": []
   },
   "outputs": [],
   "source": [
    "#q2.hint()\n",
    "#q2.solution()"
   ]
  },
  {
   "cell_type": "markdown",
   "id": "296db928",
   "metadata": {
    "papermill": {
     "duration": 0.004711,
     "end_time": "2022-10-11T13:57:23.628013",
     "exception": false,
     "start_time": "2022-10-11T13:57:23.623302",
     "status": "completed"
    },
    "tags": []
   },
   "source": [
    "## 3.\n",
    "Sometimes the price column is null. How many reviews in the dataset are missing a price?"
   ]
  },
  {
   "cell_type": "code",
   "execution_count": 6,
   "id": "d10f3617",
   "metadata": {
    "execution": {
     "iopub.execute_input": "2022-10-11T13:57:23.639632Z",
     "iopub.status.busy": "2022-10-11T13:57:23.638944Z",
     "iopub.status.idle": "2022-10-11T13:57:23.648987Z",
     "shell.execute_reply": "2022-10-11T13:57:23.648028Z"
    },
    "papermill": {
     "duration": 0.018494,
     "end_time": "2022-10-11T13:57:23.651393",
     "exception": false,
     "start_time": "2022-10-11T13:57:23.632899",
     "status": "completed"
    },
    "tags": []
   },
   "outputs": [
    {
     "data": {
      "application/javascript": [
       "parent.postMessage({\"jupyterEvent\": \"custom.exercise_interaction\", \"data\": {\"outcomeType\": 1, \"valueTowardsCompletion\": 0.25, \"interactionType\": 1, \"questionType\": 1, \"questionId\": \"3_CountMissingPrices\", \"learnToolsVersion\": \"0.3.4\", \"failureMessage\": \"\", \"exceptionClass\": \"\", \"trace\": \"\"}}, \"*\")"
      ],
      "text/plain": [
       "<IPython.core.display.Javascript object>"
      ]
     },
     "metadata": {},
     "output_type": "display_data"
    },
    {
     "data": {
      "text/markdown": [
       "<span style=\"color:#33cc33\">Correct</span>"
      ],
      "text/plain": [
       "Correct"
      ]
     },
     "metadata": {},
     "output_type": "display_data"
    }
   ],
   "source": [
    "n_missing_prices = reviews.price.isnull().sum()\n",
    "\n",
    "# Check your answer\n",
    "q3.check()"
   ]
  },
  {
   "cell_type": "code",
   "execution_count": 7,
   "id": "10e93552",
   "metadata": {
    "execution": {
     "iopub.execute_input": "2022-10-11T13:57:23.663863Z",
     "iopub.status.busy": "2022-10-11T13:57:23.663450Z",
     "iopub.status.idle": "2022-10-11T13:57:23.667866Z",
     "shell.execute_reply": "2022-10-11T13:57:23.666817Z"
    },
    "papermill": {
     "duration": 0.013295,
     "end_time": "2022-10-11T13:57:23.670025",
     "exception": false,
     "start_time": "2022-10-11T13:57:23.656730",
     "status": "completed"
    },
    "tags": []
   },
   "outputs": [],
   "source": [
    "#q3.hint()\n",
    "#q3.solution()"
   ]
  },
  {
   "cell_type": "markdown",
   "id": "c88854b7",
   "metadata": {
    "papermill": {
     "duration": 0.004992,
     "end_time": "2022-10-11T13:57:23.680434",
     "exception": false,
     "start_time": "2022-10-11T13:57:23.675442",
     "status": "completed"
    },
    "tags": []
   },
   "source": [
    "## 4.\n",
    "What are the most common wine-producing regions? Create a Series counting the number of times each value occurs in the `region_1` field. This field is often missing data, so replace missing values with `Unknown`. Sort in descending order.  Your output should look something like this:\n",
    "\n",
    "```\n",
    "Unknown                    21247\n",
    "Napa Valley                 4480\n",
    "                           ...  \n",
    "Bardolino Superiore            1\n",
    "Primitivo del Tarantino        1\n",
    "Name: region_1, Length: 1230, dtype: int64\n",
    "```"
   ]
  },
  {
   "cell_type": "code",
   "execution_count": 8,
   "id": "7a75dced",
   "metadata": {
    "execution": {
     "iopub.execute_input": "2022-10-11T13:57:23.693790Z",
     "iopub.status.busy": "2022-10-11T13:57:23.693424Z",
     "iopub.status.idle": "2022-10-11T13:57:23.705848Z",
     "shell.execute_reply": "2022-10-11T13:57:23.704888Z"
    },
    "papermill": {
     "duration": 0.022442,
     "end_time": "2022-10-11T13:57:23.708119",
     "exception": false,
     "start_time": "2022-10-11T13:57:23.685677",
     "status": "completed"
    },
    "tags": []
   },
   "outputs": [],
   "source": [
    "region=reviews.region_1.fillna('Unknown')"
   ]
  },
  {
   "cell_type": "code",
   "execution_count": 9,
   "id": "e785a263",
   "metadata": {
    "execution": {
     "iopub.execute_input": "2022-10-11T13:57:23.720627Z",
     "iopub.status.busy": "2022-10-11T13:57:23.720203Z",
     "iopub.status.idle": "2022-10-11T13:57:23.761157Z",
     "shell.execute_reply": "2022-10-11T13:57:23.760062Z"
    },
    "papermill": {
     "duration": 0.050094,
     "end_time": "2022-10-11T13:57:23.763575",
     "exception": false,
     "start_time": "2022-10-11T13:57:23.713481",
     "status": "completed"
    },
    "tags": []
   },
   "outputs": [
    {
     "data": {
      "application/javascript": [
       "parent.postMessage({\"jupyterEvent\": \"custom.exercise_interaction\", \"data\": {\"outcomeType\": 1, \"valueTowardsCompletion\": 0.25, \"interactionType\": 1, \"questionType\": 2, \"questionId\": \"4_ReviewsPerRegion\", \"learnToolsVersion\": \"0.3.4\", \"failureMessage\": \"\", \"exceptionClass\": \"\", \"trace\": \"\"}}, \"*\")"
      ],
      "text/plain": [
       "<IPython.core.display.Javascript object>"
      ]
     },
     "metadata": {},
     "output_type": "display_data"
    },
    {
     "data": {
      "text/markdown": [
       "<span style=\"color:#33cc33\">Correct</span>"
      ],
      "text/plain": [
       "Correct"
      ]
     },
     "metadata": {},
     "output_type": "display_data"
    }
   ],
   "source": [
    "reviews_per_region =reviews.region_1.fillna('Unknown').value_counts().sort_values(ascending=False)\n",
    "\n",
    "# Check your answer\n",
    "q4.check()"
   ]
  },
  {
   "cell_type": "code",
   "execution_count": 10,
   "id": "f2f2e6e4",
   "metadata": {
    "execution": {
     "iopub.execute_input": "2022-10-11T13:57:23.776557Z",
     "iopub.status.busy": "2022-10-11T13:57:23.775585Z",
     "iopub.status.idle": "2022-10-11T13:57:23.779436Z",
     "shell.execute_reply": "2022-10-11T13:57:23.778688Z"
    },
    "papermill": {
     "duration": 0.012473,
     "end_time": "2022-10-11T13:57:23.781465",
     "exception": false,
     "start_time": "2022-10-11T13:57:23.768992",
     "status": "completed"
    },
    "tags": []
   },
   "outputs": [],
   "source": [
    "#q4.hint()\n",
    "#q4.solution()"
   ]
  },
  {
   "cell_type": "markdown",
   "id": "6c43ba9f",
   "metadata": {
    "papermill": {
     "duration": 0.005345,
     "end_time": "2022-10-11T13:57:23.792366",
     "exception": false,
     "start_time": "2022-10-11T13:57:23.787021",
     "status": "completed"
    },
    "tags": []
   },
   "source": [
    "# Keep going\n",
    "\n",
    "Move on to **[renaming and combining](https://www.kaggle.com/residentmario/renaming-and-combining)**."
   ]
  },
  {
   "cell_type": "markdown",
   "id": "5d61320c",
   "metadata": {
    "papermill": {
     "duration": 0.004971,
     "end_time": "2022-10-11T13:57:23.802588",
     "exception": false,
     "start_time": "2022-10-11T13:57:23.797617",
     "status": "completed"
    },
    "tags": []
   },
   "source": [
    "---\n",
    "\n",
    "\n",
    "\n",
    "\n",
    "*Have questions or comments? Visit the [course discussion forum](https://www.kaggle.com/learn/pandas/discussion) to chat with other learners.*"
   ]
  }
 ],
 "metadata": {
  "kernelspec": {
   "display_name": "Python 3",
   "language": "python",
   "name": "python3"
  },
  "language_info": {
   "codemirror_mode": {
    "name": "ipython",
    "version": 3
   },
   "file_extension": ".py",
   "mimetype": "text/x-python",
   "name": "python",
   "nbconvert_exporter": "python",
   "pygments_lexer": "ipython3",
   "version": "3.7.12"
  },
  "papermill": {
   "default_parameters": {},
   "duration": 13.120449,
   "end_time": "2022-10-11T13:57:24.529529",
   "environment_variables": {},
   "exception": null,
   "input_path": "__notebook__.ipynb",
   "output_path": "__notebook__.ipynb",
   "parameters": {},
   "start_time": "2022-10-11T13:57:11.409080",
   "version": "2.3.4"
  }
 },
 "nbformat": 4,
 "nbformat_minor": 5
}
